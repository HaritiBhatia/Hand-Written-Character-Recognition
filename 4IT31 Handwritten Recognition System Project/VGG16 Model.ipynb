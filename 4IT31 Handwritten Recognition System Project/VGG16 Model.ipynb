{
 "cells": [
  {
   "cell_type": "code",
   "execution_count": 34,
   "id": "d6494078",
   "metadata": {},
   "outputs": [],
   "source": [
    "from tensorflow.keras.preprocessing.image import ImageDataGenerator\n",
    "from tensorflow.keras.preprocessing import image\n",
    "from tensorflow.keras.optimizers import RMSprop\n",
    "import matplotlib.pyplot as plt\n",
    "import tensorflow as tf\n",
    "import numpy as np\n",
    "import cv2\n",
    "import os\n",
    "import keras\n",
    "from keras.models import Sequential\n",
    "from keras.layers import Dense, Conv2D, MaxPool2D , Flatten\n",
    "from keras.applications.vgg16 import VGG16"
   ]
  },
  {
   "cell_type": "code",
   "execution_count": 35,
   "id": "552a1dc9",
   "metadata": {},
   "outputs": [],
   "source": [
    "dataset = ImageDataGenerator(rescale = 1/255)"
   ]
  },
  {
   "cell_type": "code",
   "execution_count": 47,
   "id": "8f4570d2",
   "metadata": {},
   "outputs": [
    {
     "name": "stdout",
     "output_type": "stream",
     "text": [
      "Found 21387 images belonging to 444 classes.\n"
     ]
    }
   ],
   "source": [
    "data = dataset.flow_from_directory(\n",
    "        'Gujarati Characters Dataset Photos/28x28/',\n",
    "        target_size=(32, 32),\n",
    "        #color_mode='grayscale',\n",
    "        batch_size=21387,\n",
    "        class_mode='categorical')"
   ]
  },
  {
   "cell_type": "code",
   "execution_count": 49,
   "id": "2572d428",
   "metadata": {},
   "outputs": [],
   "source": [
    "X, y = data.next()"
   ]
  },
  {
   "cell_type": "code",
   "execution_count": 50,
   "id": "947b42bd",
   "metadata": {},
   "outputs": [
    {
     "name": "stdout",
     "output_type": "stream",
     "text": [
      "Train data shape:  (17109, 32, 32, 3)\n",
      "Test data shape:  (4278, 32, 32, 3)\n"
     ]
    }
   ],
   "source": [
    "from sklearn.model_selection import train_test_split\n",
    "train_x, test_x, train_y, test_y = train_test_split(X, y, test_size = 0.2)\n",
    "\n",
    "print(\"Train data shape: \", train_x.shape)\n",
    "print(\"Test data shape: \", test_x.shape)"
   ]
  },
  {
   "cell_type": "code",
   "execution_count": 51,
   "id": "88968c87",
   "metadata": {},
   "outputs": [],
   "source": [
    "conv_base = VGG16(include_top=False,\n",
    "                     weights='imagenet', \n",
    "                     input_shape= (32,32,3))"
   ]
  },
  {
   "cell_type": "code",
   "execution_count": 52,
   "id": "cacb1671",
   "metadata": {},
   "outputs": [],
   "source": [
    "for layer in conv_base.layers:\n",
    "            layer.trainable = False"
   ]
  },
  {
   "cell_type": "code",
   "execution_count": 53,
   "id": "894affb4",
   "metadata": {},
   "outputs": [],
   "source": [
    "from keras.layers import Dense, Dropout, Flatten\n",
    "top_model = conv_base.output\n",
    "top_model = Flatten(name=\"flatten\")(top_model)\n",
    "top_model = Dense(4096, activation='relu')(top_model)\n",
    "top_model = Dense(1072, activation='relu')(top_model)\n",
    "top_model = Dropout(0.2)(top_model)\n",
    "output_layer = Dense(444, activation='softmax')(top_model)\n",
    "model = tf.keras.models.Model(inputs=conv_base.input, outputs=output_layer)    \n",
    "    # Group the convolutional base and new fully-connected layers into a Model object.\n",
    "#model = Model(inputs=conv_base.input, outputs=output_layer)"
   ]
  },
  {
   "cell_type": "code",
   "execution_count": 54,
   "id": "0f383519",
   "metadata": {},
   "outputs": [],
   "source": [
    "model.compile(optimizer='RMSprop', \n",
    "                  loss='categorical_crossentropy',\n",
    "                  metrics=['accuracy'])"
   ]
  },
  {
   "cell_type": "code",
   "execution_count": null,
   "id": "2c0c920d",
   "metadata": {},
   "outputs": [
    {
     "name": "stdout",
     "output_type": "stream",
     "text": [
      "Epoch 1/10\n",
      "103/535 [====>.........................] - ETA: 1:03:40 - loss: 4.4736 - accuracy: 0.1192"
     ]
    }
   ],
   "source": [
    "\n",
    "vgghist = model.fit(train_x,train_y, validation_data = (test_x,test_y),batch_size=32, epochs = 10)"
   ]
  },
  {
   "cell_type": "code",
   "execution_count": null,
   "id": "320749bf",
   "metadata": {},
   "outputs": [],
   "source": []
  }
 ],
 "metadata": {
  "kernelspec": {
   "display_name": "Python 3",
   "language": "python",
   "name": "python3"
  },
  "language_info": {
   "codemirror_mode": {
    "name": "ipython",
    "version": 3
   },
   "file_extension": ".py",
   "mimetype": "text/x-python",
   "name": "python",
   "nbconvert_exporter": "python",
   "pygments_lexer": "ipython3",
   "version": "3.8.8"
  }
 },
 "nbformat": 4,
 "nbformat_minor": 5
}
